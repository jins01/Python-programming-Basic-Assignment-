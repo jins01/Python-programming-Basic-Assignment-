{
 "cells": [
  {
   "cell_type": "markdown",
   "id": "ea29e8b9",
   "metadata": {},
   "source": [
    "##1. Write a Python Program to find sum of Array ?"
   ]
  },
  {
   "cell_type": "code",
   "execution_count": 2,
   "id": "f7d35b3c",
   "metadata": {},
   "outputs": [
    {
     "name": "stdout",
     "output_type": "stream",
     "text": [
      "Enter the Array: [1,4,5,8,9]\n",
      "The sum of [1, 4, 5, 8, 9] is 27\n"
     ]
    }
   ],
   "source": [
    "def sumOFArray():\n",
    "    in_arr=eval(input(\"Enter the Array: \"))\n",
    "    print(f'The sum of {in_arr} is {sum(in_arr)}')\n",
    "sumOFArray()"
   ]
  },
  {
   "cell_type": "markdown",
   "id": "c2b3d1fe",
   "metadata": {},
   "source": [
    "##2. Write a Python Program to find Largest element in an Array ?"
   ]
  },
  {
   "cell_type": "code",
   "execution_count": 3,
   "id": "1dde88c0",
   "metadata": {},
   "outputs": [
    {
     "name": "stdout",
     "output_type": "stream",
     "text": [
      "Enter the Array: [1,4,5,8,9,89,102]\n",
      "The Largest Element in [1, 4, 5, 8, 9, 89, 102] is 102\n"
     ]
    }
   ],
   "source": [
    "def largestElement():\n",
    "    in_arr = eval(input(\"Enter the Array: \"))\n",
    "    print(f\"The Largest Element in {in_arr} is {sorted(in_arr, reverse=True)[0]}\")\n",
    "    \n",
    "largestElement()"
   ]
  },
  {
   "cell_type": "markdown",
   "id": "e1399b83",
   "metadata": {},
   "source": [
    "##3. Write a Python Program for array rotation ?"
   ]
  },
  {
   "cell_type": "code",
   "execution_count": 6,
   "id": "ead525eb",
   "metadata": {},
   "outputs": [
    {
     "name": "stdout",
     "output_type": "stream",
     "text": [
      "Enter the Array: [1,4,5,8,9,89,102]\n",
      "the reverse of array [1, 4, 5, 8, 9, 89, 102] is [102, 89, 9, 8, 5, 4, 1]\n"
     ]
    }
   ],
   "source": [
    "def revarray():\n",
    "    in_arr=eval(input(\"Enter the Array: \"))\n",
    "    print(f\"the reverse of array {in_arr} is {in_arr[::-1]}\")\n",
    "\n",
    "revarray()"
   ]
  },
  {
   "cell_type": "markdown",
   "id": "90bff9a4",
   "metadata": {},
   "source": [
    "##4. Write a Python Program to Split the array and add the first part to the end ?"
   ]
  },
  {
   "cell_type": "code",
   "execution_count": 7,
   "id": "317b6f7a",
   "metadata": {},
   "outputs": [
    {
     "name": "stdout",
     "output_type": "stream",
     "text": [
      "Enter the Array: [1,4,5,8,9,89,102]\n",
      "The Sum of First and Last Elements of Array [1, 4, 5, 8, 9, 89, 102] is 103\n"
     ]
    }
   ],
   "source": [
    "def sumOfSplits():\n",
    "    in_arr = eval(input(\"Enter the Array: \"))\n",
    "    print(f\"The Sum of First and Last Elements of Array {in_arr} is {in_arr[0]+in_arr[-1]}\")\n",
    "    \n",
    "sumOfSplits()"
   ]
  },
  {
   "cell_type": "markdown",
   "id": "0b924e5c",
   "metadata": {},
   "source": [
    "##5. Write a Python Program to check if given array is Monotonic ?"
   ]
  },
  {
   "cell_type": "code",
   "execution_count": 8,
   "id": "10c75891",
   "metadata": {},
   "outputs": [
    {
     "name": "stdout",
     "output_type": "stream",
     "text": [
      "Enter the Array: [1,4,5,8,9,89,102]\n",
      "Array [1, 4, 5, 8, 9, 89, 102] is Monotonic\n",
      "Enter the Array: [1,4,5,108,9,89,102]\n",
      "Array [1, 4, 5, 108, 9, 89, 102] is Not Monotonic\n"
     ]
    }
   ],
   "source": [
    "def checkMonotonic():\n",
    "    in_arr = eval(input(\"Enter the Array: \"))\n",
    "    if(all(in_arr[i]<=in_arr[i+1] for i in range(len(in_arr)-1)) or all(in_arr[i]>=in_arr[i+1] for i in range(len(in_arr)-1))):\n",
    "        print(f'Array {in_arr} is Monotonic')\n",
    "    else:\n",
    "        print(f'Array {in_arr} is Not Monotonic')\n",
    "\n",
    "checkMonotonic()\n",
    "checkMonotonic()"
   ]
  }
 ],
 "metadata": {
  "kernelspec": {
   "display_name": "Python 3 (ipykernel)",
   "language": "python",
   "name": "python3"
  },
  "language_info": {
   "codemirror_mode": {
    "name": "ipython",
    "version": 3
   },
   "file_extension": ".py",
   "mimetype": "text/x-python",
   "name": "python",
   "nbconvert_exporter": "python",
   "pygments_lexer": "ipython3",
   "version": "3.9.7"
  }
 },
 "nbformat": 4,
 "nbformat_minor": 5
}
