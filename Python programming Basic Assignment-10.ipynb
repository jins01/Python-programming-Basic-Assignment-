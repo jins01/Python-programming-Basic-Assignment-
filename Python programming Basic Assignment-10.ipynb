{
 "cells": [
  {
   "cell_type": "markdown",
   "id": "3a19df10",
   "metadata": {},
   "source": [
    "##1.Write a Python Program to find sum of elements in a list ?"
   ]
  },
  {
   "cell_type": "code",
   "execution_count": 2,
   "id": "7ea6f565",
   "metadata": {},
   "outputs": [
    {
     "name": "stdout",
     "output_type": "stream",
     "text": [
      "Enter the No of Entries in a List: 5\n",
      "Enter a element: 6\n",
      "Enter a element: 7\n",
      "Enter a element: 8\n",
      "Enter a element: 9\n",
      "Enter a element: 2\n",
      "Sum of Elements: 32\n"
     ]
    }
   ],
   "source": [
    "def sumofList():\n",
    "    in_ele = int(input('Enter the No of Entries in a List: '))\n",
    "    in_list = []\n",
    "    for itr in range(in_ele):\n",
    "        in_list.append(int(input('Enter a element: ')))\n",
    "    print(f'Sum of Elements: {sum(in_list)}')\n",
    "\n",
    "sumofList()"
   ]
  },
  {
   "cell_type": "markdown",
   "id": "c2bb963a",
   "metadata": {},
   "source": [
    "##2.Write a Python Program to multiply all numbers in the list ?"
   ]
  },
  {
   "cell_type": "code",
   "execution_count": 3,
   "id": "52f51b4a",
   "metadata": {},
   "outputs": [
    {
     "name": "stdout",
     "output_type": "stream",
     "text": [
      "Enter the no of entries in a list: 5\n",
      "enter a elemet: 7\n",
      "enter a elemet: 8\n",
      "enter a elemet: 3\n",
      "enter a elemet: 2\n",
      "enter a elemet: 1\n",
      "336\n"
     ]
    }
   ],
   "source": [
    "def mulofList():\n",
    "    in_ele=int(input('Enter the no of entries in a list: '))\n",
    "    in_list=[]\n",
    "    mul=1\n",
    "    for itr in range(in_ele):\n",
    "        in_list.append(int(input('enter a elemet: ')))\n",
    "    for ele in in_list:\n",
    "        mul=mul*ele\n",
    "    print(mul)\n",
    "    \n",
    "mulofList()"
   ]
  },
  {
   "cell_type": "markdown",
   "id": "d124a9fe",
   "metadata": {},
   "source": [
    "##3.Write a Python Program to find smallest number in the list ?\n",
    "def smallEleInList():\n",
    "    in_ele = int(input('Enter the No of elements in a list: '))\n",
    "    in_list = []\n",
    "    for ele in range(in_ele):\n",
    "        in_list.append(int(input('Enter a Element: ')))\n",
    "    print(f'The Smallest Element in {in_list} is {sorted(in_list)[0]}')\n",
    "smallEleInList()"
   ]
  },
  {
   "cell_type": "code",
   "execution_count": 6,
   "id": "1e00fab8",
   "metadata": {},
   "outputs": [
    {
     "name": "stdout",
     "output_type": "stream",
     "text": [
      "Enter the no of elements in a list: 6\n",
      "Enter a Element: 0\n",
      "Enter a Element: 3\n",
      "Enter a Element: 6\n",
      "Enter a Element: 4\n",
      "Enter a Element: 6\n",
      "Enter a Element: 2\n",
      "The Smallest Element in [0, 3, 6, 4, 6, 2] is 0\n"
     ]
    }
   ],
   "source": [
    "def smallEleInList():\n",
    "    in_ele=int(input('Enter the no of elements in a list: '))\n",
    "    in_list=[]\n",
    "    for ele in range(in_ele):\n",
    "        in_list.append(int(input(\"Enter a Element: \")))\n",
    "    print(f'The Smallest Element in {in_list} is {sorted(in_list)[0]}')\n",
    "smallEleInList()"
   ]
  },
  {
   "cell_type": "markdown",
   "id": "8afa78ed",
   "metadata": {},
   "source": [
    "##4.Write a Python Program to find largest number in the list ?"
   ]
  },
  {
   "cell_type": "code",
   "execution_count": 7,
   "id": "660d58f4",
   "metadata": {},
   "outputs": [
    {
     "name": "stdout",
     "output_type": "stream",
     "text": [
      "Enter the No of elements in a list: 6\n",
      "Enter a Element: 4\n",
      "Enter a Element: 673\n",
      "Enter a Element: 9\n",
      "Enter a Element: 09\n",
      "Enter a Element: 2\n",
      "Enter a Element: 5\n",
      "The Largest Element in [4, 673, 9, 9, 2, 5] is 673\n"
     ]
    }
   ],
   "source": [
    "def largestEleInList():\n",
    "    in_ele = int(input('Enter the No of elements in a list: '))\n",
    "    in_list = []\n",
    "    for ele in range(in_ele):\n",
    "        in_list.append(int(input('Enter a Element: ')))\n",
    "    print(f'The Largest Element in {in_list} is {sorted(in_list, reverse=True)[0]}')\n",
    "\n",
    "largestEleInList()"
   ]
  },
  {
   "cell_type": "markdown",
   "id": "8150fae2",
   "metadata": {},
   "source": [
    "##5.Write a Python Program to find second largest number in the list ?"
   ]
  },
  {
   "cell_type": "code",
   "execution_count": 8,
   "id": "2fe19215",
   "metadata": {},
   "outputs": [
    {
     "name": "stdout",
     "output_type": "stream",
     "text": [
      "Enter the No of elements in a list: 4\n",
      "Enter a Element: 6\n",
      "Enter a Element: 5\n",
      "Enter a Element: 4\n",
      "Enter a Element: 7\n",
      "The Second Largest Element in [6, 5, 4, 7] is 6\n"
     ]
    }
   ],
   "source": [
    "def secondLargestEleInList():\n",
    "    in_ele = int(input('Enter the No of elements in a list: '))\n",
    "    in_list = []\n",
    "    for ele in range(in_ele):\n",
    "        in_list.append(int(input('Enter a Element: ')))\n",
    "    print(f'The Second Largest Element in {in_list} is {sorted(in_list, reverse=True)[1]}')\n",
    "\n",
    "secondLargestEleInList()"
   ]
  }
 ],
 "metadata": {
  "kernelspec": {
   "display_name": "Python 3 (ipykernel)",
   "language": "python",
   "name": "python3"
  },
  "language_info": {
   "codemirror_mode": {
    "name": "ipython",
    "version": 3
   },
   "file_extension": ".py",
   "mimetype": "text/x-python",
   "name": "python",
   "nbconvert_exporter": "python",
   "pygments_lexer": "ipython3",
   "version": "3.9.7"
  }
 },
 "nbformat": 4,
 "nbformat_minor": 5
}
