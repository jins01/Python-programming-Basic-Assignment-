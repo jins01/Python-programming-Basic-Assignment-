{
 "cells": [
  {
   "cell_type": "markdown",
   "id": "24c82296",
   "metadata": {},
   "source": [
    "##1.Write a Python Program to find the factorial of a number ?"
   ]
  },
  {
   "cell_type": "code",
   "execution_count": 8,
   "id": "15924c18",
   "metadata": {},
   "outputs": [
    {
     "name": "stdout",
     "output_type": "stream",
     "text": [
      "enter a number:9\n",
      "The factorial of 9 is 362880\n"
     ]
    }
   ],
   "source": [
    "def factorial(num):\n",
    "    if (num<1):\n",
    "        return 1\n",
    "    else:\n",
    "        return num*factorial(num-1)\n",
    "num=int(input('enter a number:'))\n",
    "value=factorial(num)\n",
    "print(f'The factorial of {num} is {value}')"
   ]
  },
  {
   "cell_type": "markdown",
   "id": "6093bcf2",
   "metadata": {},
   "source": [
    "##2.Write a Python Program to display the multiplication table ?"
   ]
  },
  {
   "cell_type": "code",
   "execution_count": 9,
   "id": "d40c3b58",
   "metadata": {},
   "outputs": [
    {
     "name": "stdout",
     "output_type": "stream",
     "text": [
      "enter a number :8\n",
      "enter no of entries:8\n",
      "8 X 1=8\n",
      "8 X 2=16\n",
      "8 X 3=24\n",
      "8 X 4=32\n",
      "8 X 5=40\n",
      "8 X 6=48\n",
      "8 X 7=56\n",
      "8 X 8=64\n"
     ]
    }
   ],
   "source": [
    "def generateTable(base,entries):\n",
    "    for x in range(1,entries+1):\n",
    "        print(f'{base} X {x}={base*x}')\n",
    "\n",
    "num=int(input('enter a number :'))\n",
    "values=int(input('enter no of entries:'))\n",
    "generateTable(num,values)"
   ]
  },
  {
   "cell_type": "markdown",
   "id": "ad5185c6",
   "metadata": {},
   "source": [
    "##3.Write a Python Program to print the fibonacci sequence ?"
   ]
  },
  {
   "cell_type": "code",
   "execution_count": 3,
   "id": "461e6266",
   "metadata": {},
   "outputs": [
    {
     "name": "stdout",
     "output_type": "stream",
     "text": [
      "enter the no of fibonacci sequence you want?30\n",
      "The first 30 fibonacci series are:) [0, 1, 1, 2, 3, 5, 8, 13, 21, 34, 55, 89, 144, 233, 377, 610, 987, 1597, 2584, 4181, 6765, 10946, 17711, 28657, 46368, 75025, 121393, 196418, 317811, 514229]\n"
     ]
    }
   ],
   "source": [
    "s_count=int(input('enter the no of fibonacci sequence you want?'))\n",
    "initial_list=[0,1]\n",
    "if s_count<0:\n",
    "    print('Fibonacci numbers are not available for negative numbers')\n",
    "elif s_count<=2 and s_count >=0:\n",
    "    print(initial_list)\n",
    "else:\n",
    "    for ins in range(s_count):\n",
    "        if ins>=2:\n",
    "            initial_list.append(initial_list[ins-1]+initial_list[ins-2])\n",
    "    print(f'The first {s_count} fibonacci series are:)',initial_list)"
   ]
  },
  {
   "cell_type": "markdown",
   "id": "31a357ac",
   "metadata": {},
   "source": [
    "##4.Write a Python Program to check Armstrong number ?"
   ]
  },
  {
   "cell_type": "code",
   "execution_count": 5,
   "id": "bb3dd211",
   "metadata": {},
   "outputs": [
    {
     "name": "stdout",
     "output_type": "stream",
     "text": [
      "enter a number : 89\n",
      "89 is not Armstrong Number\n",
      "enter a number : 371\n",
      "371 is a Armstrong Number\n"
     ]
    }
   ],
   "source": [
    "def checkArmstrongNumber():\n",
    "    in_num=input('enter a number : ')\n",
    "    sum=0\n",
    "    for char in range(len(in_num)):\n",
    "        sum=sum+pow(int(in_num[char]),3)\n",
    "    if sum == int(in_num):\n",
    "        print(f'{in_num} is a Armstrong Number')\n",
    "    else:\n",
    "        print(f'{in_num} is not Armstrong Number')\n",
    "for x in range(2):\n",
    "    checkArmstrongNumber()"
   ]
  },
  {
   "cell_type": "markdown",
   "id": "4b7039fd",
   "metadata": {},
   "source": [
    "##5.Write a Python Program to Find Armstrong number in an interval ?"
   ]
  },
  {
   "cell_type": "code",
   "execution_count": 7,
   "id": "38428840",
   "metadata": {},
   "outputs": [
    {
     "name": "stdout",
     "output_type": "stream",
     "text": [
      "Enter the Start of the Interval: 10\n",
      "Enter the End of the Interval: 900\n",
      "The Armstrong numbers between 10 and 900 are [153, 370, 371, 407]\n"
     ]
    }
   ],
   "source": [
    "def checkArmstrongNumber(in_num, storage):\n",
    "    sum = 0\n",
    "    for char in range(len(in_num)):\n",
    "        sum = sum + pow(int(in_num[char]),3)\n",
    "    if sum == int(in_num):\n",
    "        storage.append(int(in_num))\n",
    "\n",
    "start_interval = int(input('Enter the Start of the Interval: '))\n",
    "end_interval = int(input('Enter the End of the Interval: '))\n",
    "list_of_armstrong = []\n",
    "\n",
    "if start_interval > end_interval:\n",
    "    print(\"Start Interval Cannot be Greater than End Interval\")\n",
    "else:\n",
    "    for number in range(start_interval,end_interval+1):\n",
    "        checkArmstrongNumber(str(number),list_of_armstrong)\n",
    "    print(f'The Armstrong numbers between {start_interval} and {end_interval} are {list_of_armstrong}')"
   ]
  },
  {
   "cell_type": "markdown",
   "id": "56061878",
   "metadata": {},
   "source": [
    "##6.Write a Python Program to sum of natural numbers ?"
   ]
  },
  {
   "cell_type": "code",
   "execution_count": 8,
   "id": "e639f147",
   "metadata": {},
   "outputs": [
    {
     "name": "stdout",
     "output_type": "stream",
     "text": [
      "Enter a number: 90\n",
      "Sum of 90 natural numbers is 4095.0\n"
     ]
    }
   ],
   "source": [
    "def sumOfNaturalNumbers(num):\n",
    "    sum = num*((num+1)/2)\n",
    "    print(f'Sum of {num} natural numbers is {sum}')\n",
    "    \n",
    "num = int(input('Enter a number: '))\n",
    "sumOfNaturalNumbers(num)"
   ]
  }
 ],
 "metadata": {
  "kernelspec": {
   "display_name": "Python 3 (ipykernel)",
   "language": "python",
   "name": "python3"
  },
  "language_info": {
   "codemirror_mode": {
    "name": "ipython",
    "version": 3
   },
   "file_extension": ".py",
   "mimetype": "text/x-python",
   "name": "python",
   "nbconvert_exporter": "python",
   "pygments_lexer": "ipython3",
   "version": "3.9.7"
  }
 },
 "nbformat": 4,
 "nbformat_minor": 5
}
